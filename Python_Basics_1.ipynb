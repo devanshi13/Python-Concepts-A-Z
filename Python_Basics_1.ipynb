{
  "nbformat": 4,
  "nbformat_minor": 0,
  "metadata": {
    "colab": {
      "name": "Python Basics - 1.ipynb",
      "provenance": []
    },
    "kernelspec": {
      "name": "python3",
      "display_name": "Python 3"
    },
    "language_info": {
      "name": "python"
    }
  },
  "cells": [
    {
      "cell_type": "markdown",
      "source": [
        "### 1. Print Statement in Python"
      ],
      "metadata": {
        "id": "ZgV4wxvPN2hr"
      }
    },
    {
      "cell_type": "code",
      "execution_count": 4,
      "metadata": {
        "colab": {
          "base_uri": "https://localhost:8080/"
        },
        "id": "cRqMzTS9NbA2",
        "outputId": "d0be7276-988d-4baa-ffd0-5e0fcd0ed64a"
      },
      "outputs": [
        {
          "output_type": "stream",
          "name": "stdout",
          "text": [
            "Hi\n"
          ]
        }
      ],
      "source": [
        "print(\"Hi\")"
      ]
    },
    {
      "cell_type": "code",
      "source": [
        "print(4)"
      ],
      "metadata": {
        "colab": {
          "base_uri": "https://localhost:8080/"
        },
        "id": "PMAnvx47NvbH",
        "outputId": "597ab43c-65fd-4ca1-cc0d-114da62fdca3"
      },
      "execution_count": 5,
      "outputs": [
        {
          "output_type": "stream",
          "name": "stdout",
          "text": [
            "4\n"
          ]
        }
      ]
    },
    {
      "cell_type": "code",
      "source": [
        "# A space is automatically added between two parameters passed inside print statement\n",
        "print(\"I am\", 23)"
      ],
      "metadata": {
        "colab": {
          "base_uri": "https://localhost:8080/"
        },
        "id": "m9E0FsjDNyi2",
        "outputId": "5b81442a-b533-4d83-ab80-f4bfbd7b02ed"
      },
      "execution_count": 18,
      "outputs": [
        {
          "output_type": "stream",
          "name": "stdout",
          "text": [
            "I am 23\n"
          ]
        }
      ]
    },
    {
      "cell_type": "markdown",
      "source": [
        "### 2. Variable and Data Types \n",
        "\n",
        "- Python is completely object oriented, and not \"statically typed\". \n",
        "- You do not need to declare variables before using them, or declare their type. Every variable in Python is an object.\n",
        "\n",
        "- Rules for Varibale Declaration in Python -\n",
        "  1.  A variable name must start with a letter or the underscore character.\n",
        "  2.  A variable name cannot start with a number.\n",
        "  3.  A variable name can only contain alpha-numeric characters and underscores (A-z, 0-9, and _ )\n",
        "  4.  Variable names are case-sensitive (age, Age and AGE are three different variables)\n",
        "  5. Variable name can't be same as that of a keyword\n",
        "\n",
        "- There are following datatypes in Python -\n",
        "  1.   Integer - whole numbers (-4, 1000, 2647289)\n",
        "  2.   Float - decimal values (-2.5, 1.0, 3.999999)\n",
        "  3.   String - values enclosed in quotes (\"Python\", \"A\", \"Python is easy!\")\n",
        "  4.   Boolean - True/False\n",
        "  5.   Complex - complex numbers with real and imaginary part (1+2j, -3j, 2-j)\n",
        "\n",
        "\n",
        "\n"
      ],
      "metadata": {
        "id": "1QYEB6nZN-pc"
      }
    },
    {
      "cell_type": "code",
      "source": [
        "# Variable Declaration\n",
        "x = 5"
      ],
      "metadata": {
        "id": "ZzYV2OACN07F"
      },
      "execution_count": 7,
      "outputs": []
    },
    {
      "cell_type": "code",
      "source": [
        "_x = 5"
      ],
      "metadata": {
        "id": "nZy2DbmrPzBw"
      },
      "execution_count": 8,
      "outputs": []
    },
    {
      "cell_type": "code",
      "source": [
        "1x = 5"
      ],
      "metadata": {
        "colab": {
          "base_uri": "https://localhost:8080/",
          "height": 130
        },
        "id": "FB9GJPnDP5jJ",
        "outputId": "6c3d14d1-f6c8-4a64-c171-2a51d0df1731"
      },
      "execution_count": 9,
      "outputs": [
        {
          "output_type": "error",
          "ename": "SyntaxError",
          "evalue": "ignored",
          "traceback": [
            "\u001b[0;36m  File \u001b[0;32m\"<ipython-input-9-a38823eb2d7e>\"\u001b[0;36m, line \u001b[0;32m1\u001b[0m\n\u001b[0;31m    1x = 5\u001b[0m\n\u001b[0m     ^\u001b[0m\n\u001b[0;31mSyntaxError\u001b[0m\u001b[0;31m:\u001b[0m invalid syntax\n"
          ]
        }
      ]
    },
    {
      "cell_type": "code",
      "source": [
        "x_1 = 5"
      ],
      "metadata": {
        "id": "nGjVi77kP7K8"
      },
      "execution_count": 10,
      "outputs": []
    },
    {
      "cell_type": "code",
      "source": [
        "break = 5"
      ],
      "metadata": {
        "colab": {
          "base_uri": "https://localhost:8080/",
          "height": 130
        },
        "id": "gBonRTpAP_92",
        "outputId": "b11ef5e0-0a7d-4163-9f09-4215000cdf0a"
      },
      "execution_count": 12,
      "outputs": [
        {
          "output_type": "error",
          "ename": "SyntaxError",
          "evalue": "ignored",
          "traceback": [
            "\u001b[0;36m  File \u001b[0;32m\"<ipython-input-12-00bd2e73219f>\"\u001b[0;36m, line \u001b[0;32m1\u001b[0m\n\u001b[0;31m    break = 5\u001b[0m\n\u001b[0m          ^\u001b[0m\n\u001b[0;31mSyntaxError\u001b[0m\u001b[0;31m:\u001b[0m invalid syntax\n"
          ]
        }
      ]
    },
    {
      "cell_type": "code",
      "source": [
        "# Datatypes\n",
        "name = \"Devanshi\"\n",
        "age = 23\n",
        "comp_num = 23 + 4j\n",
        "height = 5.2\n",
        "job = True\n",
        "\n",
        "print(\"Hi, I am\", name)\n",
        "print(\"I am\", age, \" years old\")\n",
        "print(\"Other variables....\", comp_num, height, job)"
      ],
      "metadata": {
        "colab": {
          "base_uri": "https://localhost:8080/"
        },
        "id": "9WkDAXeAQCmA",
        "outputId": "756e3ff2-89f7-482e-c7f8-53c446fb2616"
      },
      "execution_count": 15,
      "outputs": [
        {
          "output_type": "stream",
          "name": "stdout",
          "text": [
            "Hi, I am Devanshi\n",
            "I am 23  years old\n",
            "Other variables.... (23+4j) 5.2 True\n"
          ]
        }
      ]
    },
    {
      "cell_type": "code",
      "source": [
        "# More on Print Statements\n",
        "# For adding next line use \"\\n\"\n",
        "print(\"\\nI am Devanshi\")"
      ],
      "metadata": {
        "colab": {
          "base_uri": "https://localhost:8080/"
        },
        "id": "mfBUWhBxQuR0",
        "outputId": "13400e4b-7972-4151-93ff-28a85c44d9b9"
      },
      "execution_count": 16,
      "outputs": [
        {
          "output_type": "stream",
          "name": "stdout",
          "text": [
            "\n",
            "I am Devanshi\n"
          ]
        }
      ]
    },
    {
      "cell_type": "code",
      "source": [
        "print(\"I am Devanshi\\n\")\n",
        "print(\"Age....\", age)"
      ],
      "metadata": {
        "colab": {
          "base_uri": "https://localhost:8080/"
        },
        "id": "gU-pUZnZRMRe",
        "outputId": "7f64fddc-0474-4c34-eb72-0d8be623b3a2"
      },
      "execution_count": 17,
      "outputs": [
        {
          "output_type": "stream",
          "name": "stdout",
          "text": [
            "I am Devanshi\n",
            "\n",
            "Age.... 23\n"
          ]
        }
      ]
    },
    {
      "cell_type": "markdown",
      "source": [
        "#### **2.1 You can check the datatype by using type() function.**"
      ],
      "metadata": {
        "id": "yccHBz86Vubl"
      }
    },
    {
      "cell_type": "code",
      "source": [
        "type(comp_num)"
      ],
      "metadata": {
        "colab": {
          "base_uri": "https://localhost:8080/"
        },
        "id": "J2CTK9EdV2df",
        "outputId": "9cec3b19-2975-4ae2-9b1d-222f3478f071"
      },
      "execution_count": 31,
      "outputs": [
        {
          "output_type": "execute_result",
          "data": {
            "text/plain": [
              "complex"
            ]
          },
          "metadata": {},
          "execution_count": 31
        }
      ]
    },
    {
      "cell_type": "code",
      "source": [
        "type(job)"
      ],
      "metadata": {
        "colab": {
          "base_uri": "https://localhost:8080/"
        },
        "id": "0tvKeqGQV5lh",
        "outputId": "ee974f46-fd3e-4d7a-dde7-00aab1961ede"
      },
      "execution_count": 32,
      "outputs": [
        {
          "output_type": "execute_result",
          "data": {
            "text/plain": [
              "bool"
            ]
          },
          "metadata": {},
          "execution_count": 32
        }
      ]
    },
    {
      "cell_type": "code",
      "source": [
        "type(height)"
      ],
      "metadata": {
        "colab": {
          "base_uri": "https://localhost:8080/"
        },
        "id": "gsp7JEyqV8V_",
        "outputId": "58ea8550-a748-4e1d-f94d-969b0c6399ae"
      },
      "execution_count": 33,
      "outputs": [
        {
          "output_type": "execute_result",
          "data": {
            "text/plain": [
              "float"
            ]
          },
          "metadata": {},
          "execution_count": 33
        }
      ]
    },
    {
      "cell_type": "markdown",
      "source": [
        "#### **2.2 Type Conversion**"
      ],
      "metadata": {
        "id": "omi2ifUBWEE4"
      }
    },
    {
      "cell_type": "code",
      "source": [
        "age = float(age)\n",
        "print(age, type(age))"
      ],
      "metadata": {
        "colab": {
          "base_uri": "https://localhost:8080/"
        },
        "id": "Byl3LwNjWJE5",
        "outputId": "d0172da0-28db-4dde-d8a1-69e702b9dad2"
      },
      "execution_count": 34,
      "outputs": [
        {
          "output_type": "stream",
          "name": "stdout",
          "text": [
            "23.0 <class 'float'>\n"
          ]
        }
      ]
    },
    {
      "cell_type": "code",
      "source": [
        "height = int(height)\n",
        "print(height, type(height))"
      ],
      "metadata": {
        "colab": {
          "base_uri": "https://localhost:8080/"
        },
        "id": "kJSnzYpOWIxs",
        "outputId": "490eedb5-2831-4c0b-dca7-db7d87183100"
      },
      "execution_count": 35,
      "outputs": [
        {
          "output_type": "stream",
          "name": "stdout",
          "text": [
            "5 <class 'int'>\n"
          ]
        }
      ]
    },
    {
      "cell_type": "code",
      "source": [
        "age = str(age)\n",
        "print(age, type(age))"
      ],
      "metadata": {
        "colab": {
          "base_uri": "https://localhost:8080/"
        },
        "id": "BtlqX9iEWejr",
        "outputId": "dbc674c1-1487-4998-b491-fd4dfe10bcb6"
      },
      "execution_count": 38,
      "outputs": [
        {
          "output_type": "stream",
          "name": "stdout",
          "text": [
            "23.0 <class 'str'>\n"
          ]
        }
      ]
    },
    {
      "cell_type": "code",
      "source": [
        "# You can convert a numerical value into string but the reverse isn't valid\n",
        "name = int(name)"
      ],
      "metadata": {
        "colab": {
          "base_uri": "https://localhost:8080/",
          "height": 182
        },
        "id": "etDDYeqFWIfc",
        "outputId": "593daed5-c294-4aeb-921e-3e10d22541df"
      },
      "execution_count": 39,
      "outputs": [
        {
          "output_type": "error",
          "ename": "ValueError",
          "evalue": "ignored",
          "traceback": [
            "\u001b[0;31m---------------------------------------------------------------------------\u001b[0m",
            "\u001b[0;31mValueError\u001b[0m                                Traceback (most recent call last)",
            "\u001b[0;32m<ipython-input-39-fc9f99a52469>\u001b[0m in \u001b[0;36m<module>\u001b[0;34m()\u001b[0m\n\u001b[1;32m      1\u001b[0m \u001b[0;31m# You can convert a numerical value into string but the reverse isn't valid\u001b[0m\u001b[0;34m\u001b[0m\u001b[0;34m\u001b[0m\u001b[0;34m\u001b[0m\u001b[0m\n\u001b[0;32m----> 2\u001b[0;31m \u001b[0mname\u001b[0m \u001b[0;34m=\u001b[0m \u001b[0mint\u001b[0m\u001b[0;34m(\u001b[0m\u001b[0mname\u001b[0m\u001b[0;34m)\u001b[0m\u001b[0;34m\u001b[0m\u001b[0;34m\u001b[0m\u001b[0m\n\u001b[0m",
            "\u001b[0;31mValueError\u001b[0m: invalid literal for int() with base 10: 'Devanshi'"
          ]
        }
      ]
    },
    {
      "cell_type": "markdown",
      "source": [
        "### 3. Keywords and Placeholders\n",
        "\n",
        "- **Keywords -** Keywords are the reserved words in Python that are used for a particular purpose. We cannot use a keyword as a variable name, function name or any other identifier. \n",
        "\n",
        "- **Placeholders -** Placeholder is a word, characters or a string of characters to hold a temporary place. When we have to pass multiple arguments then we use .format(). Here, the position of argument matters"
      ],
      "metadata": {
        "id": "Hu3qruUIU_L-"
      }
    },
    {
      "cell_type": "code",
      "source": [
        "# Placeholders\n",
        "print(f\"My name is {name}\")"
      ],
      "metadata": {
        "colab": {
          "base_uri": "https://localhost:8080/"
        },
        "id": "ikp6V1QRRVWE",
        "outputId": "9b7aa05d-38a4-408a-d97c-2f00a52a6f2f"
      },
      "execution_count": 21,
      "outputs": [
        {
          "output_type": "stream",
          "name": "stdout",
          "text": [
            "My name is Devanshi\n"
          ]
        }
      ]
    },
    {
      "cell_type": "code",
      "source": [
        "# When we have to pass multiple arguments then we use .format\n",
        "# Here, the position of argument matters\n",
        "print(\"My name is {} and I am {} old\".format(name, age))"
      ],
      "metadata": {
        "colab": {
          "base_uri": "https://localhost:8080/"
        },
        "id": "a-jSDRO4RpXc",
        "outputId": "cd7e1814-3081-4006-cb26-b9354f0f9ffa"
      },
      "execution_count": 22,
      "outputs": [
        {
          "output_type": "stream",
          "name": "stdout",
          "text": [
            "My name is Devanshi and I am 23 old\n"
          ]
        }
      ]
    },
    {
      "cell_type": "code",
      "source": [
        "print(\"My name is {} and I am {} old\".format(age, name))"
      ],
      "metadata": {
        "colab": {
          "base_uri": "https://localhost:8080/"
        },
        "id": "1y0BPC6iTCnM",
        "outputId": "c9aad3d7-71a3-4f2e-eabc-11b282f9f33c"
      },
      "execution_count": 23,
      "outputs": [
        {
          "output_type": "stream",
          "name": "stdout",
          "text": [
            "My name is 23 and I am Devanshi old\n"
          ]
        }
      ]
    },
    {
      "cell_type": "code",
      "source": [
        "# You can name the arguments and then pass the values inside format in any order\n",
        "print(\"My name is {x} and I am {} old\".format(age, x=\"Devanshi\"))"
      ],
      "metadata": {
        "colab": {
          "base_uri": "https://localhost:8080/"
        },
        "id": "_b6TbQbbTHBr",
        "outputId": "49a4b530-e8a2-4407-fa41-f219278dbcc7"
      },
      "execution_count": 30,
      "outputs": [
        {
          "output_type": "stream",
          "name": "stdout",
          "text": [
            "My name is Devanshi and I am 23 old\n"
          ]
        }
      ]
    },
    {
      "cell_type": "markdown",
      "source": [
        "### 4. User Input\n",
        "\n",
        "- User input can be taken by using input() function. \n",
        "- The function can have any message passed as an argument.\n",
        "- The datatype of input passed by user is string by default.\n",
        "- We need to convert its datatype to use in the program further accurately."
      ],
      "metadata": {
        "id": "Jmqw6dTXVliB"
      }
    },
    {
      "cell_type": "code",
      "source": [
        "x = input()\n",
        "print(x, type(x))"
      ],
      "metadata": {
        "colab": {
          "base_uri": "https://localhost:8080/"
        },
        "id": "x56zNsJNTQC5",
        "outputId": "90aa2c0c-c6cc-47e0-bce5-a3b53a3d8372"
      },
      "execution_count": 41,
      "outputs": [
        {
          "output_type": "stream",
          "name": "stdout",
          "text": [
            "23\n",
            "23 <class 'str'>\n"
          ]
        }
      ]
    },
    {
      "cell_type": "code",
      "source": [
        "x = input(\"Enter a number : \")\n",
        "print(x, type(x))"
      ],
      "metadata": {
        "colab": {
          "base_uri": "https://localhost:8080/"
        },
        "id": "pm77Dn58VtGj",
        "outputId": "e685f45a-ce26-4d72-b7b2-86ca884350ff"
      },
      "execution_count": 45,
      "outputs": [
        {
          "output_type": "stream",
          "name": "stdout",
          "text": [
            "Enter a number : 23\n",
            "23 <class 'str'>\n"
          ]
        }
      ]
    },
    {
      "cell_type": "code",
      "source": [
        "x = int(input(\"Enter a number : \"))\n",
        "print(x, type(x))"
      ],
      "metadata": {
        "colab": {
          "base_uri": "https://localhost:8080/"
        },
        "id": "82Sm5-uWXmBi",
        "outputId": "f477ef91-4d7b-4da9-83c5-ec9235fc715f"
      },
      "execution_count": 46,
      "outputs": [
        {
          "output_type": "stream",
          "name": "stdout",
          "text": [
            "Enter a number : 23\n",
            "23 <class 'int'>\n"
          ]
        }
      ]
    },
    {
      "cell_type": "code",
      "source": [
        ""
      ],
      "metadata": {
        "id": "8iPuyOCnXtIX"
      },
      "execution_count": null,
      "outputs": []
    }
  ]
}